{
  "nbformat": 4,
  "nbformat_minor": 0,
  "metadata": {
    "colab": {
      "provenance": [],
      "authorship_tag": "ABX9TyNze5w4YdvB7ayg164lV6ad",
      "include_colab_link": true
    },
    "kernelspec": {
      "name": "python3",
      "display_name": "Python 3"
    },
    "language_info": {
      "name": "python"
    }
  },
  "cells": [
    {
      "cell_type": "markdown",
      "metadata": {
        "id": "view-in-github",
        "colab_type": "text"
      },
      "source": [
        "<a href=\"https://colab.research.google.com/github/FREDDYNG1/Repositorio-para-suo-de-programacion/blob/main/Ejercicios_para_Aprender_con_lista_y_condicionales.ipynb\" target=\"_parent\"><img src=\"https://colab.research.google.com/assets/colab-badge.svg\" alt=\"Open In Colab\"/></a>"
      ]
    },
    {
      "cell_type": "code",
      "execution_count": null,
      "metadata": {
        "colab": {
          "base_uri": "https://localhost:8080/"
        },
        "id": "ucov1CZBc1n4",
        "outputId": "50c6aeea-5f73-46a6-e2ca-cfef76c2ff1f"
      },
      "outputs": [
        {
          "output_type": "stream",
          "name": "stdout",
          "text": [
            "5 es divisible por 5\n",
            "10 es divisible por 5\n",
            "15 es divisible por 3 y 5\n",
            "20 es divisible por 5\n",
            "25 es divisible por 5\n"
          ]
        }
      ],
      "source": [
        "# Ejemplo de condiciones y listas en Python\n",
        "\n",
        "# Definir una lista de números\n",
        "numeros = [5, 10, 15, 20, 25]\n",
        "\n",
        "# Iterar sobre cada número en la lista\n",
        "for numero in numeros:\n",
        "    # Comprobar si el número es divisible por 3 y 5\n",
        "    if numero % 3 == 0 and numero % 5 == 0:\n",
        "        print(f\"{numero} es divisible por 3 y 5\")\n",
        "    # Comprobar si el número es divisible solo por 3\n",
        "    elif numero % 3 == 0:\n",
        "        print(f\"{numero} es divisible por 3\")\n",
        "    # Comprobar si el número es divisible solo por 5\n",
        "    elif numero % 5 == 0:\n",
        "        print(f\"{numero} es divisible por 5\")\n",
        "    # Si no se cumple ninguna de las condiciones anteriores\n",
        "    else:\n",
        "        print(f\"{numero} no es divisible por 3 ni por 5\")\n"
      ]
    },
    {
      "cell_type": "code",
      "source": [
        "#arreglos unidimensionales # Vector\n",
        "import numpy\n",
        "arreglo = numpy.array(([1, 2, 3, 4, 6,5, 7]))\n",
        "print(arreglo[6])"
      ],
      "metadata": {
        "colab": {
          "base_uri": "https://localhost:8080/"
        },
        "id": "Jw1B6_c8dSHV",
        "outputId": "822b0ee7-4016-4ae3-d8da-c2592384ffe5"
      },
      "execution_count": null,
      "outputs": [
        {
          "output_type": "stream",
          "name": "stdout",
          "text": [
            "7\n"
          ]
        }
      ]
    },
    {
      "cell_type": "code",
      "source": [
        "#arreglos bidimensionales # matriz\n",
        "import numpy\n",
        "matriz = numpy.array([[3, 2, 4, 10],[15, 11, 7, 3]])\n",
        "for f in range (1): #\n",
        "    for c in range (2):# toma lo que esta dentro de esa posicion no la ultima\n",
        "      print(matriz[f , c])\n"
      ],
      "metadata": {
        "colab": {
          "base_uri": "https://localhost:8080/"
        },
        "id": "mX_xSBoaZnRc",
        "outputId": "78dfcf4b-293e-4557-af99-8f6a43172580"
      },
      "execution_count": null,
      "outputs": [
        {
          "output_type": "stream",
          "name": "stdout",
          "text": [
            "3\n",
            "2\n"
          ]
        }
      ]
    },
    {
      "cell_type": "code",
      "source": [
        "import numpy\n",
        "matriz = numpy.array([[0, 1, 2],[3, 4, 5]])\n",
        "for f in range (2):\n",
        "    for c in range (3):\n",
        "      print(matriz[f , c])\n",
        "print(\"\")\n",
        "print(matriz[1,1])"
      ],
      "metadata": {
        "colab": {
          "base_uri": "https://localhost:8080/"
        },
        "id": "nr7aqUnnfywE",
        "outputId": "2f617a0a-98b5-42c8-ced5-3cee2b51d748"
      },
      "execution_count": null,
      "outputs": [
        {
          "output_type": "stream",
          "name": "stdout",
          "text": [
            "0\n",
            "1\n",
            "2\n",
            "3\n",
            "4\n",
            "5\n",
            "\n",
            "4\n"
          ]
        }
      ]
    },
    {
      "cell_type": "code",
      "source": [
        "import numpy as np\n",
        "\n",
        "matriz = np.zeros((3, 3), dtype=np.int)\n",
        "print(matriz)\n"
      ],
      "metadata": {
        "colab": {
          "base_uri": "https://localhost:8080/"
        },
        "id": "McDly0tsixkE",
        "outputId": "aa34b3d3-4b8d-49b8-9c2e-a5ee71bb219b"
      },
      "execution_count": null,
      "outputs": [
        {
          "output_type": "stream",
          "name": "stdout",
          "text": [
            "[[0 0 0]\n",
            " [0 0 0]\n",
            " [0 0 0]]\n"
          ]
        },
        {
          "output_type": "stream",
          "name": "stderr",
          "text": [
            "<ipython-input-76-fa03272f9e19>:3: DeprecationWarning: `np.int` is a deprecated alias for the builtin `int`. To silence this warning, use `int` by itself. Doing this will not modify any behavior and is safe. When replacing `np.int`, you may wish to use e.g. `np.int64` or `np.int32` to specify the precision. If you wish to review your current use, check the release note link for additional information.\n",
            "Deprecated in NumPy 1.20; for more details and guidance: https://numpy.org/devdocs/release/1.20.0-notes.html#deprecations\n",
            "  matriz = np.zeros((3, 3), dtype=np.int)\n"
          ]
        }
      ]
    },
    {
      "cell_type": "code",
      "source": [
        "import numpy as np\n",
        "\n",
        "arreglo = np.random.randint(0, 101, size=(3, 3))\n",
        "print(arreglo)\n"
      ],
      "metadata": {
        "colab": {
          "base_uri": "https://localhost:8080/"
        },
        "id": "KrthhELAi1-C",
        "outputId": "0c47bfd0-2010-4647-f399-1f4fba3e8b33"
      },
      "execution_count": null,
      "outputs": [
        {
          "output_type": "stream",
          "name": "stdout",
          "text": [
            "[[27 67 34]\n",
            " [72 85 91]\n",
            " [39 10 32]]\n"
          ]
        }
      ]
    },
    {
      "cell_type": "code",
      "source": [
        "# CALCULADORA CON FUNCIONES def()\n",
        "\n",
        "\n",
        "def suma(a, b):\n",
        "    return a + b\n",
        "\n",
        "def resta(a, b):\n",
        "    return a - b\n",
        "\n",
        "def multiplicacion(a, b):\n",
        "    return a * b\n",
        "\n",
        "def dividir(a, b):\n",
        "    return a / b\n",
        "\n",
        "def menu():\n",
        "    while True:\n",
        "        print(\"1. sumar\")\n",
        "        print(\"2. restar\")\n",
        "        print(\"3. multiplicacion\")\n",
        "        print(\"4. dividir\")\n",
        "        print(\"5. cancelar\")\n",
        "\n",
        "        opcion = int(input(\"Seleccione una opción ): \"))\n",
        "\n",
        "        if opcion == 1:\n",
        "            a = int(input(\"Ingrese el primer número: \"))\n",
        "            b = int(input(\"Ingrese el segundo número: \"))\n",
        "            result = suma(a, b)\n",
        "            print(\"El resultado de la suma es:\", result)\n",
        "\n",
        "        elif opcion == 2:\n",
        "            a = int(input(\"Ingrese el primer número: \"))\n",
        "            b = int(input(\"Ingrese el segundo número: \"))\n",
        "            result = resta(a, b)\n",
        "            print(\"El resultado de la resta es:\", result)\n",
        "\n",
        "        elif opcion == 3:\n",
        "            a = int(input(\"Ingrese el primer número: \"))\n",
        "            b = int(input(\"Ingrese el segundo número: \"))\n",
        "            result = multiplicacion(a, b)\n",
        "            print(\"El resultado de la multiplicación es:\", result)\n",
        "\n",
        "        elif opcion == 4:\n",
        "            a = int(input(\"Ingrese el primer número: \"))\n",
        "            b = int(input(\"Ingrese el segundo número: \"))\n",
        "            result = dividir(a, b)\n",
        "            print(\"El resultado de la división es:\", result)\n",
        "\n",
        "        elif opcion == 5:\n",
        "            print(\"Ha cancelado la operación.\")\n",
        "            break\n",
        "\n",
        "        else:\n",
        "            print(\"Opción inválida. Por favor, seleccione una opción válida.\")\n",
        "\n",
        "def main():\n",
        "    menu()\n",
        "\n",
        "main()\n",
        "\n",
        "\n",
        "\n",
        "\n",
        "\n",
        "\n",
        "\n"
      ],
      "metadata": {
        "colab": {
          "base_uri": "https://localhost:8080/",
          "height": 484
        },
        "id": "_xClvMVakYbX",
        "outputId": "5a5099e7-7108-44e4-ab0d-4b12b3b94d40"
      },
      "execution_count": null,
      "outputs": [
        {
          "output_type": "stream",
          "name": "stdout",
          "text": [
            "1. sumar\n",
            "2. restar\n",
            "3. multiplicacion\n",
            "4. dividir\n",
            "5. cancelar\n"
          ]
        },
        {
          "output_type": "error",
          "ename": "KeyboardInterrupt",
          "evalue": "ignored",
          "traceback": [
            "\u001b[0;31m---------------------------------------------------------------------------\u001b[0m",
            "\u001b[0;31mKeyboardInterrupt\u001b[0m                         Traceback (most recent call last)",
            "\u001b[0;32m<ipython-input-2-1303f1ef0b92>\u001b[0m in \u001b[0;36m<cell line: 60>\u001b[0;34m()\u001b[0m\n\u001b[1;32m     58\u001b[0m     \u001b[0mmenu\u001b[0m\u001b[0;34m(\u001b[0m\u001b[0;34m)\u001b[0m\u001b[0;34m\u001b[0m\u001b[0;34m\u001b[0m\u001b[0m\n\u001b[1;32m     59\u001b[0m \u001b[0;34m\u001b[0m\u001b[0m\n\u001b[0;32m---> 60\u001b[0;31m \u001b[0mmain\u001b[0m\u001b[0;34m(\u001b[0m\u001b[0;34m)\u001b[0m\u001b[0;34m\u001b[0m\u001b[0;34m\u001b[0m\u001b[0m\n\u001b[0m\u001b[1;32m     61\u001b[0m \u001b[0;34m\u001b[0m\u001b[0m\n\u001b[1;32m     62\u001b[0m \u001b[0;34m\u001b[0m\u001b[0m\n",
            "\u001b[0;32m<ipython-input-2-1303f1ef0b92>\u001b[0m in \u001b[0;36mmain\u001b[0;34m()\u001b[0m\n\u001b[1;32m     56\u001b[0m \u001b[0;34m\u001b[0m\u001b[0m\n\u001b[1;32m     57\u001b[0m \u001b[0;32mdef\u001b[0m \u001b[0mmain\u001b[0m\u001b[0;34m(\u001b[0m\u001b[0;34m)\u001b[0m\u001b[0;34m:\u001b[0m\u001b[0;34m\u001b[0m\u001b[0;34m\u001b[0m\u001b[0m\n\u001b[0;32m---> 58\u001b[0;31m     \u001b[0mmenu\u001b[0m\u001b[0;34m(\u001b[0m\u001b[0;34m)\u001b[0m\u001b[0;34m\u001b[0m\u001b[0;34m\u001b[0m\u001b[0m\n\u001b[0m\u001b[1;32m     59\u001b[0m \u001b[0;34m\u001b[0m\u001b[0m\n\u001b[1;32m     60\u001b[0m \u001b[0mmain\u001b[0m\u001b[0;34m(\u001b[0m\u001b[0;34m)\u001b[0m\u001b[0;34m\u001b[0m\u001b[0;34m\u001b[0m\u001b[0m\n",
            "\u001b[0;32m<ipython-input-2-1303f1ef0b92>\u001b[0m in \u001b[0;36mmenu\u001b[0;34m()\u001b[0m\n\u001b[1;32m     22\u001b[0m         \u001b[0mprint\u001b[0m\u001b[0;34m(\u001b[0m\u001b[0;34m\"5. cancelar\"\u001b[0m\u001b[0;34m)\u001b[0m\u001b[0;34m\u001b[0m\u001b[0;34m\u001b[0m\u001b[0m\n\u001b[1;32m     23\u001b[0m \u001b[0;34m\u001b[0m\u001b[0m\n\u001b[0;32m---> 24\u001b[0;31m         \u001b[0mopcion\u001b[0m \u001b[0;34m=\u001b[0m \u001b[0mint\u001b[0m\u001b[0;34m(\u001b[0m\u001b[0minput\u001b[0m\u001b[0;34m(\u001b[0m\u001b[0;34m\"Seleccione una opción ): \"\u001b[0m\u001b[0;34m)\u001b[0m\u001b[0;34m)\u001b[0m\u001b[0;34m\u001b[0m\u001b[0;34m\u001b[0m\u001b[0m\n\u001b[0m\u001b[1;32m     25\u001b[0m \u001b[0;34m\u001b[0m\u001b[0m\n\u001b[1;32m     26\u001b[0m         \u001b[0;32mif\u001b[0m \u001b[0mopcion\u001b[0m \u001b[0;34m==\u001b[0m \u001b[0;36m1\u001b[0m\u001b[0;34m:\u001b[0m\u001b[0;34m\u001b[0m\u001b[0;34m\u001b[0m\u001b[0m\n",
            "\u001b[0;32m/usr/local/lib/python3.10/dist-packages/ipykernel/kernelbase.py\u001b[0m in \u001b[0;36mraw_input\u001b[0;34m(self, prompt)\u001b[0m\n\u001b[1;32m    849\u001b[0m                 \u001b[0;34m\"raw_input was called, but this frontend does not support input requests.\"\u001b[0m\u001b[0;34m\u001b[0m\u001b[0;34m\u001b[0m\u001b[0m\n\u001b[1;32m    850\u001b[0m             )\n\u001b[0;32m--> 851\u001b[0;31m         return self._input_request(str(prompt),\n\u001b[0m\u001b[1;32m    852\u001b[0m             \u001b[0mself\u001b[0m\u001b[0;34m.\u001b[0m\u001b[0m_parent_ident\u001b[0m\u001b[0;34m,\u001b[0m\u001b[0;34m\u001b[0m\u001b[0;34m\u001b[0m\u001b[0m\n\u001b[1;32m    853\u001b[0m             \u001b[0mself\u001b[0m\u001b[0;34m.\u001b[0m\u001b[0m_parent_header\u001b[0m\u001b[0;34m,\u001b[0m\u001b[0;34m\u001b[0m\u001b[0;34m\u001b[0m\u001b[0m\n",
            "\u001b[0;32m/usr/local/lib/python3.10/dist-packages/ipykernel/kernelbase.py\u001b[0m in \u001b[0;36m_input_request\u001b[0;34m(self, prompt, ident, parent, password)\u001b[0m\n\u001b[1;32m    893\u001b[0m             \u001b[0;32mexcept\u001b[0m \u001b[0mKeyboardInterrupt\u001b[0m\u001b[0;34m:\u001b[0m\u001b[0;34m\u001b[0m\u001b[0;34m\u001b[0m\u001b[0m\n\u001b[1;32m    894\u001b[0m                 \u001b[0;31m# re-raise KeyboardInterrupt, to truncate traceback\u001b[0m\u001b[0;34m\u001b[0m\u001b[0;34m\u001b[0m\u001b[0m\n\u001b[0;32m--> 895\u001b[0;31m                 \u001b[0;32mraise\u001b[0m \u001b[0mKeyboardInterrupt\u001b[0m\u001b[0;34m(\u001b[0m\u001b[0;34m\"Interrupted by user\"\u001b[0m\u001b[0;34m)\u001b[0m \u001b[0;32mfrom\u001b[0m \u001b[0;32mNone\u001b[0m\u001b[0;34m\u001b[0m\u001b[0;34m\u001b[0m\u001b[0m\n\u001b[0m\u001b[1;32m    896\u001b[0m             \u001b[0;32mexcept\u001b[0m \u001b[0mException\u001b[0m \u001b[0;32mas\u001b[0m \u001b[0me\u001b[0m\u001b[0;34m:\u001b[0m\u001b[0;34m\u001b[0m\u001b[0;34m\u001b[0m\u001b[0m\n\u001b[1;32m    897\u001b[0m                 \u001b[0mself\u001b[0m\u001b[0;34m.\u001b[0m\u001b[0mlog\u001b[0m\u001b[0;34m.\u001b[0m\u001b[0mwarning\u001b[0m\u001b[0;34m(\u001b[0m\u001b[0;34m\"Invalid Message:\"\u001b[0m\u001b[0;34m,\u001b[0m \u001b[0mexc_info\u001b[0m\u001b[0;34m=\u001b[0m\u001b[0;32mTrue\u001b[0m\u001b[0;34m)\u001b[0m\u001b[0;34m\u001b[0m\u001b[0;34m\u001b[0m\u001b[0m\n",
            "\u001b[0;31mKeyboardInterrupt\u001b[0m: Interrupted by user"
          ]
        }
      ]
    },
    {
      "cell_type": "code",
      "source": [
        "personas = []\n",
        "\n",
        "def GUARDAR():\n",
        "    rut = input(\"Ingrese RUT: \")\n",
        "    nombre = input(\"Ingrese NOMBRE: \")\n",
        "    edad = int(input(\"Ingrese EDAD: \"))\n",
        "    pais_de_nacimiento = input(\"Ingrese PAÍS DE NACIMIENTO: \")\n",
        "    ciudad_de_nacimiento = input(\"Ingrese CIUDAD DE NACIMIENTO: \")\n",
        "\n",
        "    if validar_rut(rut):\n",
        "        persona = {\n",
        "            \"rut\": rut,\n",
        "            \"nombre\": nombre,\n",
        "            \"edad\": edad,\n",
        "            \"pais_de_nacimiento\": pais_de_nacimiento,\n",
        "            \"ciudad_de_nacimiento\": ciudad_de_nacimiento\n",
        "        }\n",
        "        personas.append(persona)\n",
        "        print(\"Persona guardada exitosamente.\")\n",
        "    else:\n",
        "        print(\"El RUT ingresado no es válido.\")\n",
        "\n",
        "def validar_rut(rut):\n",
        "    rut = rut.replace(\".\", \"\").replace(\"-\", \"\")\n",
        "    if len(rut) != 9 or not rut[:-1].isdigit():\n",
        "        return False\n",
        "    multiplicadores = [2, 3, 4, 5, 6, 7, 2, 3]\n",
        "    total = sum(int(digito) * multiplicador for digito, multiplicador in zip(rut[:-1][::-1], multiplicadores))\n",
        "    resto = total % 11\n",
        "    digito_verificador = str(11 - resto)\n",
        "    if digito_verificador == \"11\":\n",
        "        digito_verificador = \"0\"\n",
        "    elif digito_verificador == \"10\":\n",
        "        digito_verificador = \"K\"\n",
        "    return rut[-1].upper() == digito_verificador\n",
        "\n",
        "def buscar():\n",
        "    rut = input(\"Ingrese RUT de la persona que desea buscar: \")\n",
        "    found = False\n",
        "    for persona in personas:\n",
        "        if persona[\"rut\"] == rut:\n",
        "            print(\"Persona encontrada:\")\n",
        "            print(\"RUT:\", persona[\"rut\"])\n",
        "            print(\"Nombre:\", persona[\"nombre\"])\n",
        "            print(\"Edad:\", persona[\"edad\"])\n",
        "            print(\"País de Nacimiento:\", persona[\"pais_de_nacimiento\"])\n",
        "            print(\"Ciudad de Nacimiento:\", persona[\"ciudad_de_nacimiento\"])\n",
        "            found = True\n",
        "            break\n",
        "    if not found:\n",
        "        print(\"Persona no encontrada.\")\n",
        "\n",
        "def imprimir_certificados():\n",
        "    certificado_nacimiento = input(\"Ingrese el nombre del certificado de nacimiento: \")\n",
        "    certificado_de_matrimonio = input(\"Ingrese el certificado de matrimonio: \")\n",
        "    # Aquí puedes implementar la lógica para imprimir los certificados correspondientes\n",
        "    # utilizando los nombres proporcionados\n",
        "\n",
        "def eliminar():\n",
        "    rut = input(\"Ingrese el RUT de la persona que desea eliminar: \")\n",
        "    removed = False\n",
        "    for persona in personas:\n",
        "        if persona[\"rut\"] == rut:\n",
        "            personas.remove(persona)\n",
        "            removed = True\n",
        "            print(\"Persona eliminada exitosamente.\")\n",
        "            break\n",
        "    if not removed:\n",
        "        print(\"Persona no encontrada.\")\n",
        "\n",
        "def main():\n",
        "    while True:\n",
        "        print(\"-----MENÚ-----\")\n",
        "        print(\"1. GUARDAR\")\n",
        "        print(\"2. BUSCAR\")\n",
        "        print(\"3. IMPRIMIR CERTIFICADOS\")\n",
        "        print(\"4. ELIMINAR\")\n",
        "        print(\"5. SALIR\")\n",
        "\n",
        "        opcion = int(input(\"Ingrese la opción que desea: \"))\n",
        "\n",
        "        if opcion == 1:\n",
        "            GUARDAR()\n",
        "        elif opcion == 2:\n",
        "            buscar()\n",
        "        elif opcion == 3:\n",
        "            imprimir_certificados()\n",
        "        elif opcion == 4:\n",
        "            eliminar()\n",
        "        elif opcion == 5:\n",
        "            print(\"Hasta luego\")\n",
        "            break\n",
        "        else:\n",
        "            print(\"Opción inválida. Por favor, ingrese nuevamente.\")\n",
        "\n",
        "if __name__ == \"__main__\":\n",
        "    main()\n"
      ],
      "metadata": {
        "id": "q1DEw1l0h8Jg"
      },
      "execution_count": null,
      "outputs": []
    },
    {
      "cell_type": "code",
      "source": [
        "# CASO PRUEBA\n",
        "def grabar():\n",
        "    rut = input(\"Ingrese RUT: \")\n",
        "    nombre = input(\"Ingrese NOMBRE: \")\n",
        "    edad = int(input(\"Ingrese EDAD: \"))\n",
        "    pais_de_nacimiento = input(\"Ingrese PAÍS DE NACIMIENTO: \")\n",
        "    ciudad_de_nacimiento = input(\"Ingrese CIUDAD DE NACIMIENTO: \")\n",
        "\n",
        "    if validar_rut(rut) and len(nombre) >= 8 and edad >= 0:\n",
        "        print(\"Datos guardados con éxito\")\n",
        "    else:\n",
        "        print(\"Error en los datos ingresados. Por favor, inténtelo de nuevo\")\n",
        "\n",
        "\n",
        "def buscar():\n",
        "    rut = input(\"Ingrese RUT de la persona que desea buscar: \")\n",
        "    # Aquí puedes implementar la lógica para buscar el RUT en tu sistema\n",
        "    # y realizar las acciones correspondientes\n",
        "\n",
        "\n",
        "def imprimir_certificados():\n",
        "    certificado_nacimiento = input(\"Ingrese el nombre del certificado de nacimiento: \")\n",
        "    certificado_de_matrimonio = input(\"Ingrese el certificado de matrimonio: \")\n",
        "    # Aquí puedes implementar la lógica para imprimir los certificados\n",
        "    # correspondientes utilizando los nombres proporcionados\n",
        "\n",
        "\n",
        "def eliminar():\n",
        "    rut = input(\"Ingrese el RUT que desea eliminar: \")\n",
        "    # Aquí puedes implementar la lógica para eliminar la persona con el\n",
        "    # RUT proporcionado de tu sistema\n",
        "\n",
        "\n",
        "def main():\n",
        "    while True:\n",
        "        print(\"-----MENÚ-----\")\n",
        "        print(\"1. GRABAR\")\n",
        "        print(\"2. BUSCAR\")\n",
        "        print(\"3. IMPRIMIR CERTIFICADOS\")\n",
        "        print(\"4. ELIMINAR\")\n",
        "        print(\"5. SALIR\")\n",
        "\n",
        "        opcion = int(input(\"Ingrese la opción que desea: \"))\n",
        "\n",
        "        if opcion == 1:\n",
        "            grabar()\n",
        "        elif opcion == 2:\n",
        "            buscar()\n",
        "        elif opcion == 3:\n",
        "            imprimir_certificados()\n",
        "        elif opcion == 4:\n",
        "            eliminar()\n",
        "        elif opcion == 5:\n",
        "            print(\"Hasta luego\")\n",
        "            break\n",
        "        else:\n",
        "            print(\"Opción inválida. Por favor, ingrese nuevamente.\")\n",
        "\n",
        "\n",
        "if __name__ == \"__main__\":\n",
        "    main()\n"
      ],
      "metadata": {
        "id": "oWlGSXi0p5Q0"
      },
      "execution_count": null,
      "outputs": []
    },
    {
      "cell_type": "code",
      "source": [
        "resultado1 = 2**8\n",
        "resultado2 = 5+8\n",
        "print(\"el resultado de la potencia es: \", resultado1 ,  \"\\n y el resultado de la suma es :\" , resultado2 )"
      ],
      "metadata": {
        "colab": {
          "base_uri": "https://localhost:8080/"
        },
        "id": "zJ137bZIIsOb",
        "outputId": "60c92c2a-cb66-47be-ecdd-f4eb0ea21047"
      },
      "execution_count": null,
      "outputs": [
        {
          "output_type": "stream",
          "name": "stdout",
          "text": [
            "el resultado de la potencia es:  256 \n",
            " y el resultado de la suma es : 13\n"
          ]
        }
      ]
    },
    {
      "cell_type": "code",
      "source": [
        "# ano comun o bisieto\n",
        "year = int(input(\"ingresa un ano: \"))\n",
        "\n",
        "if year < 1582:\n",
        "  print(\"no dentro del periodo del calendario gregoriano\")\n",
        "else:\n",
        "    if year  %  4 != 0:\n",
        "     print(\"ano comun\")\n",
        "\n",
        "    elif year % 100 != 0:\n",
        "     print(\"ano bisieto\")\n",
        "\n",
        "    elif year % 400 != 0:\n",
        "       print(\"ano comun\")\n",
        "\n",
        "    else:\n",
        "        print(\"ano bisieto\")\n"
      ],
      "metadata": {
        "colab": {
          "base_uri": "https://localhost:8080/"
        },
        "id": "RZOJQFzEByRM",
        "outputId": "978c0b39-a926-4ade-95cd-692f4357e63f"
      },
      "execution_count": null,
      "outputs": [
        {
          "output_type": "stream",
          "name": "stdout",
          "text": [
            "ingresa un ano: 26617\n",
            "ano comun\n"
          ]
        }
      ]
    },
    {
      "cell_type": "code",
      "source": [
        "personas = []\n",
        "\n",
        "def GUARDAR():\n",
        "    rut = input(\"Ingrese RUT: \")\n",
        "    nombre = input(\"Ingrese NOMBRE: \")\n",
        "    edad = int(input(\"Ingrese EDAD: \"))\n",
        "    pais_de_nacimiento = input(\"Ingrese PAÍS DE NACIMIENTO: \")\n",
        "    ciudad_de_nacimiento = input(\"Ingrese CIUDAD DE NACIMIENTO: \")\n",
        "\n",
        "    if validar_rut(rut):\n",
        "        persona = {\n",
        "            \"rut\": rut,\n",
        "            \"nombre\": nombre,\n",
        "            \"edad\": edad,\n",
        "            \"pais_de_nacimiento\": pais_de_nacimiento,\n",
        "            \"ciudad_de_nacimiento\": ciudad_de_nacimiento\n",
        "        }\n",
        "        personas.append(persona)\n",
        "        print(\"Persona guardada exitosamente.\")\n",
        "    else:\n",
        "        print(\"El RUT ingresado no es válido.\")\n",
        "\n",
        "def validar_rut(rut):\n",
        "    rut = rut.replace(\".\", \"\").replace(\"-\", \"\")\n",
        "    if len(rut) != 9 or not rut[:-1].isdigit():\n",
        "        return False\n",
        "    multiplicadores = [2, 3, 4, 5, 6, 7, 2, 3]\n",
        "    total = sum(int(digito) * multiplicador for digito, multiplicador in zip(rut[:-1][::-1], multiplicadores))\n",
        "    resto = total % 11\n",
        "    digito_verificador = str(11 - resto)\n",
        "    if digito_verificador == \"11\":\n",
        "        digito_verificador = \"0\"\n",
        "    elif digito_verificador == \"10\":\n",
        "        digito_verificador = \"K\"\n",
        "    return rut[-1].upper() == digito_verificador\n",
        "\n",
        "def buscar():\n",
        "    rut = input(\"Ingrese RUT de la persona que desea buscar: \")\n",
        "    found = False\n",
        "    for persona in personas:\n",
        "        if persona[\"rut\"] == rut:\n",
        "            print(\"Persona encontrada:\")\n",
        "            print(\"RUT:\", persona[\"rut\"])\n",
        "            print(\"Nombre:\", persona[\"nombre\"])\n",
        "            print(\"Edad:\", persona[\"edad\"])\n",
        "            print(\"País de Nacimiento:\", persona[\"pais_de_nacimiento\"])\n",
        "            print(\"Ciudad de Nacimiento:\", persona[\"ciudad_de_nacimiento\"])\n",
        "            found = True\n",
        "            break\n",
        "    if not found:\n",
        "        print(\"Persona no encontrada.\")\n",
        "\n",
        "def imprimir_certificados():\n",
        "    certificado_nacimiento = input(\"Ingrese el nombre del certificado de nacimiento: \")\n",
        "    certificado_de_matrimonio = input(\"Ingrese el certificado de matrimonio: \")\n",
        "\n",
        "\n",
        "def eliminar():\n",
        "    rut = input(\"Ingrese el RUT de la persona que desea eliminar: \")\n",
        "    removed = False\n",
        "    for persona in personas:\n",
        "        if persona[\"rut\"] == rut:\n",
        "            personas.remove(persona)\n",
        "            removed = True\n",
        "            print(\"Persona eliminada exitosamente.\")\n",
        "            break\n",
        "    if not removed:\n",
        "        print(\"Persona no encontrada.\")\n",
        "\n",
        "def main():\n",
        "    while True:\n",
        "        print(\"-----MENÚ-----\")\n",
        "        print(\"1. GUARDAR\")\n",
        "        print(\"2. BUSCAR\")\n",
        "        print(\"3. IMPRIMIR CERTIFICADOS\")\n",
        "        print(\"4. ELIMINAR\")\n",
        "        print(\"5. SALIR\")\n",
        "\n",
        "        opcion = int(input(\"Ingrese la opción que desea: \"))\n",
        "\n",
        "        if opcion == 1:\n",
        "            GUARDAR()\n",
        "        elif opcion == 2:\n",
        "            buscar()\n",
        "        elif opcion == 3:\n",
        "            imprimir_certificados()\n",
        "        elif opcion == 4:\n",
        "            eliminar()\n",
        "        elif opcion == 5:\n",
        "            print(\"Hasta luego\")\n",
        "            break\n",
        "        else:\n",
        "            print(\"Opción inválida. Por favor, ingrese nuevamente.\")\n",
        "\n",
        "if __name__ == \"__main__\":\n",
        "    main()"
      ],
      "metadata": {
        "id": "mXuo-wruk1tE"
      },
      "execution_count": null,
      "outputs": []
    }
  ]
}